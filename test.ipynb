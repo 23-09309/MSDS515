{
 "cells": [
  {
   "cell_type": "code",
   "execution_count": 1,
   "id": "beca291a",
   "metadata": {},
   "outputs": [],
   "source": [
    "import sqlite3"
   ]
  },
  {
   "cell_type": "markdown",
   "id": "8df08435",
   "metadata": {},
   "source": [
    "### Check registered users"
   ]
  },
  {
   "cell_type": "code",
   "execution_count": null,
   "id": "fe051c5f",
   "metadata": {},
   "outputs": [],
   "source": [
    "conn = sqlite3.connect(\"user_emails.db\")\n",
    "cursor = conn.cursor()\n",
    "rows = cursor.execute(\"SELECT * FROM users\")\n",
    "conn.commit()\n",
    "\n",
    "for row in rows:\n",
    "    print(row)"
   ]
  },
  {
   "cell_type": "markdown",
   "id": "6d121ca2",
   "metadata": {},
   "source": [
    "### Delete all users"
   ]
  },
  {
   "cell_type": "code",
   "execution_count": null,
   "id": "2e1d66a3",
   "metadata": {},
   "outputs": [],
   "source": [
    "conn = sqlite3.connect(\"user_emails.db\")\n",
    "cursor = conn.cursor()\n",
    "cursor.execute(\"DELETE FROM users\")\n",
    "conn.commit()\n",
    "conn.close()"
   ]
  },
  {
   "cell_type": "code",
   "execution_count": null,
   "id": "23502fe1",
   "metadata": {},
   "outputs": [],
   "source": []
  }
 ],
 "metadata": {
  "kernelspec": {
   "display_name": "sparchat_env",
   "language": "python",
   "name": "python3"
  },
  "language_info": {
   "codemirror_mode": {
    "name": "ipython",
    "version": 3
   },
   "file_extension": ".py",
   "mimetype": "text/x-python",
   "name": "python",
   "nbconvert_exporter": "python",
   "pygments_lexer": "ipython3",
   "version": "3.13.2"
  }
 },
 "nbformat": 4,
 "nbformat_minor": 5
}
